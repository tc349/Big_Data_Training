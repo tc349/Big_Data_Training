{
 "cells": [
  {
   "cell_type": "markdown",
   "id": "727bc183",
   "metadata": {},
   "source": [
    "# Install Necessary Libraries"
   ]
  },
  {
   "cell_type": "code",
   "execution_count": null,
   "id": "365e8e85",
   "metadata": {},
   "outputs": [],
   "source": [
    "#already installed globaly\n",
    "# !pip install mysqlalchemy\n",
    "# !pip install pymysql"
   ]
  },
  {
   "cell_type": "markdown",
   "id": "30936d35",
   "metadata": {},
   "source": [
    "# 1. Establish the Database Connection using SQLAlchemy"
   ]
  },
  {
   "cell_type": "code",
   "execution_count": 24,
   "id": "effca586",
   "metadata": {},
   "outputs": [],
   "source": [
    "from sqlalchemy import create_engine\n",
    "\n",
    "#Define the database credentials\n",
    "username = \"root\"\n",
    "password = \"root\"\n",
    "host = \"localhost\"\n",
    "port = \"3306\"\n",
    "database = \"company\"\n",
    "\n",
    "#Construct the database connection URL\n",
    "connection_string = f\"mysql+pymysql://{username}:{password}@{host}:{port}/{database}\""
   ]
  },
  {
   "cell_type": "code",
   "execution_count": 25,
   "id": "c76a8df9",
   "metadata": {},
   "outputs": [
    {
     "name": "stdout",
     "output_type": "stream",
     "text": [
      "Connection to the localhost for user root created successful.\n"
     ]
    }
   ],
   "source": [
    "try:    \n",
    "    #Create the SQLAlchemy engine\n",
    "    db_conn = create_engine(connection_string)\n",
    "    print(f\"Connection to the {host} for user {username} created successful.\")\n",
    "except Exception as e:\n",
    "    print(f\"Connection could not be made due to the following error: \\n\", e)"
   ]
  },
  {
   "cell_type": "markdown",
   "id": "9149a72e",
   "metadata": {},
   "source": [
    "# 2. Read Data from MySQL into a Pandas DataFrame:"
   ]
  },
  {
   "cell_type": "markdown",
   "id": "7e13b669",
   "metadata": {},
   "source": [
    "- we can use use Pandas' `read_sql()` function to execute SQL queries and load the results directly into a DataFrame"
   ]
  },
  {
   "cell_type": "code",
   "execution_count": 26,
   "id": "aba0aa2c",
   "metadata": {},
   "outputs": [
    {
     "name": "stdout",
     "output_type": "stream",
     "text": [
      "   emp_Id emp_name  dept_Id   salary\n",
      "0       1     John      2.0  75000.0\n",
      "1       2     Jane      1.0  65000.0\n",
      "2       3     Mike      2.0  80000.0\n",
      "3       4    Emily      3.0  70000.0\n",
      "4       5    Sarah      NaN  60000.0\n"
     ]
    }
   ],
   "source": [
    "import pandas as pd\n",
    "\n",
    "# SQL query\n",
    "sql_query = \"SELECT * FROM employees\"\n",
    "\n",
    "# Read data into a Pandas DataFrame\n",
    "# df_employees = pd.read_sql(\"SELECT * FROM employees\", engine)\n",
    "df_employees = pd.read_sql(sql_query, db_conn)\n",
    "print(df_employees.head())\n",
    "\n",
    "# Close the connection\n",
    "db_conn.dispose()\n"
   ]
  },
  {
   "cell_type": "code",
   "execution_count": 27,
   "id": "1f2fbe72",
   "metadata": {},
   "outputs": [
    {
     "name": "stdout",
     "output_type": "stream",
     "text": [
      "   emp_Id emp_name  dept_Id   salary\n",
      "0       1     John      2.0  75000.0\n",
      "1       2     Jane      1.0  65000.0\n",
      "2       3     Mike      2.0  80000.0\n",
      "3       4    Emily      3.0  70000.0\n",
      "4       5    Sarah      NaN  60000.0\n"
     ]
    }
   ],
   "source": [
    "# This code is good practice to write a code because of exception handling\n",
    "# Read data into a Pandas DataFrame\n",
    "try:\n",
    "    df_employees = pd.read_sql(sql_query, db_conn)\n",
    "    print(df_employees.head())  # Display the first few rows of the DataFrame\n",
    "except Exception as e:\n",
    "    print(f\"Error reading from database: {e}\")\n",
    "finally:\n",
    "    # It's good practice to close the connection\n",
    "    db_conn.dispose()"
   ]
  },
  {
   "cell_type": "markdown",
   "id": "040e6e90",
   "metadata": {},
   "source": [
    "# 3.  Write a Pandas DataFrame to a MySQL Table:"
   ]
  },
  {
   "cell_type": "markdown",
   "id": "fd14bc7f",
   "metadata": {},
   "source": [
    "- to write data from a Pandas DataFrame to a MySQL table using the `to_sql()` method:\n",
    "    - `name`: Specifies the name of the table in the MySQL database.\n",
    "    - `con`: The SQLAlchemy connection engine.\n",
    "    - `if_exists`: Determines how to handle the table if it already exists:\n",
    "        - `'fail'`: Raises a ValueError.\n",
    "        - `'replace'`: Drops the table and creates a new one.\n",
    "        - `'append'`: Adds the new data to the existing table.\n",
    "    - `index`: A boolean indicating whether to write the DataFrame index as a column in the SQL table. `False` is usually preferred."
   ]
  },
  {
   "cell_type": "code",
   "execution_count": null,
   "id": "092308d7",
   "metadata": {},
   "outputs": [
    {
     "name": "stdout",
     "output_type": "stream",
     "text": [
      "Data Read from MySQL:\n",
      "   dept_Id        dept_name\n",
      "0        1  Human Resources\n",
      "1        2      Engineering\n",
      "2        3        Marketing\n",
      "\n",
      "Processed data written to table 'merged_employees_departments' in the database.\n",
      "   emp_Id emp_name  dept_Id   salary        dept_name\n",
      "0       1     John      2.0  75000.0      Engineering\n",
      "1       2     Jane      1.0  65000.0  Human Resources\n",
      "2       3     Mike      2.0  80000.0      Engineering\n",
      "3       4    Emily      3.0  70000.0        Marketing\n"
     ]
    }
   ],
   "source": [
    "try:\n",
    "    # Read data \n",
    "    df_departments = pd.read_sql(\"SELECT * from departments\", db_conn)\n",
    "    print(\"Data Read from MySQL:\")\n",
    "    print(df_departments.head())\n",
    "    \n",
    "    # performing join operation on employees and departments\n",
    "    df_merged_emp_dep = pd.merge(df_employees, df_departments, on=\"dept_Id\")\n",
    "    \n",
    "    # Write the modified DataFrame to a new table\n",
    "    df_merged_emp_dep.to_sql(\"merged_employees_departments\", db_conn, if_exists=\"replace\", index=False)\n",
    "    print(f\"\\nProcessed data written to table 'merged_employees_departments' in the database.\")\n",
    "    print(df_merged_emp_dep.head())\n",
    "except Exception as e:\n",
    "    print(f\"An error occurred: {e}\")\n",
    "finally:\n",
    "    if 'db_conn' in locals():\n",
    "        db_conn.dispose()"
   ]
  }
 ],
 "metadata": {
  "kernelspec": {
   "display_name": "Python 3",
   "language": "python",
   "name": "python3"
  },
  "language_info": {
   "codemirror_mode": {
    "name": "ipython",
    "version": 3
   },
   "file_extension": ".py",
   "mimetype": "text/x-python",
   "name": "python",
   "nbconvert_exporter": "python",
   "pygments_lexer": "ipython3",
   "version": "3.13.3"
  }
 },
 "nbformat": 4,
 "nbformat_minor": 5
}
