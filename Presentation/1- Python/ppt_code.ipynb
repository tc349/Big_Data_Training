{
 "cells": [
  {
   "cell_type": "code",
   "execution_count": 49,
   "id": "1bca7fdb",
   "metadata": {},
   "outputs": [
    {
     "name": "stdout",
     "output_type": "stream",
     "text": [
      "['grape', 'cherry', 'banana', 'apple']\n"
     ]
    }
   ],
   "source": [
    "fruits = [\"apple\", \"banana\"]\n",
    "fruits.append(\"cherry\") #['apple', 'banana', 'cherry']\n",
    "fruits.insert(1, \"grape\") # output: ?\n",
    "fruits.sort(reverse=True) # output: ?\n",
    "print(fruits)\n"
   ]
  },
  {
   "cell_type": "code",
   "execution_count": 33,
   "id": "50348cfb",
   "metadata": {},
   "outputs": [],
   "source": [
    "my_list = [1, \"hello,\", 3.14]"
   ]
  },
  {
   "cell_type": "code",
   "execution_count": 50,
   "id": "e84635c4",
   "metadata": {},
   "outputs": [
    {
     "name": "stdout",
     "output_type": "stream",
     "text": [
      "B\n",
      "['A']\n"
     ]
    }
   ],
   "source": [
    "stack = []\n",
    "stack.append('A') # stack = ['A']\n",
    "stack.append('B') # stack = ['B']\n",
    "print(stack.pop()) # output: B\n",
    "print(stack) # output: ?"
   ]
  },
  {
   "cell_type": "code",
   "execution_count": 51,
   "id": "2960ab1f",
   "metadata": {},
   "outputs": [
    {
     "data": {
      "text/plain": [
       "'Task1'"
      ]
     },
     "execution_count": 51,
     "metadata": {},
     "output_type": "execute_result"
    }
   ],
   "source": [
    "x = ['Task1', 'Task2']\n",
    "x.append('Task3') # queue = ['Task1', 'Task2', 'Task3']\n",
    "x.pop(0) # output: ?"
   ]
  },
  {
   "cell_type": "code",
   "execution_count": null,
   "id": "e486b9ac",
   "metadata": {},
   "outputs": [],
   "source": [
    "# Traditional loop\n",
    "squares = []\n",
    "\n",
    "for x in range(5):\n",
    "    squares.append(x**2)\n",
    "    \n",
    "print(squares) # output: [0, 1, 4, 9, 16]"
   ]
  },
  {
   "cell_type": "code",
   "execution_count": null,
   "id": "0ba631f5",
   "metadata": {},
   "outputs": [],
   "source": [
    "#List comprehension without condition\n",
    "squares = [x**2 for x in range(5)]\n",
    "print(squares) # output: [0, 1, 4, 9, 16]\n",
    "\n",
    "#List comprehension with condition\n",
    "squares = [x**2 for x in range(5) if x % 2 == 0]\n",
    "print(squares) # output: [0, 4, 16]"
   ]
  },
  {
   "cell_type": "code",
   "execution_count": null,
   "id": "66707856",
   "metadata": {},
   "outputs": [],
   "source": [
    "matrix = [[1, 2], [3, 4]]\n",
    "\n",
    "flattened = [num for row in matrix for num in row]\n",
    "print(flattened) # output: [1, 2, 3, 4]"
   ]
  },
  {
   "cell_type": "code",
   "execution_count": null,
   "id": "93f64b5a",
   "metadata": {},
   "outputs": [],
   "source": [
    "matrix = [[1, 2], [3, 4]]\n",
    "\n",
    "# The below code transposes a 2x2 matrix using list comprehension\n",
    "transpose = [[row[i] for row in matrix] for i in range(2)]\n",
    "print(transpose) # output: [[1, 3], [2, 4]]"
   ]
  },
  {
   "cell_type": "code",
   "execution_count": null,
   "id": "5bdd65b0",
   "metadata": {},
   "outputs": [],
   "source": [
    "numbers = [1, 2, 3, 4]\n",
    "del numbers[1] # output: [1, 3, 4]\n",
    "del numbers[0:2] # output: ?\n",
    "del numbers # list is deleted\n",
    "print(numbers)"
   ]
  },
  {
   "cell_type": "code",
   "execution_count": null,
   "id": "1be0b8e8",
   "metadata": {},
   "outputs": [],
   "source": [
    "tup = 1, 2, 3 \n",
    "print(type(tup)) # output: <class 'tuple'>\n",
    "\n",
    "point = (3, 4)\n",
    "x, y = point # Unpacking the tuple\n",
    "print(x, y) # output: 3 4\n",
    "print(point[0]) # output: 3 "
   ]
  }
 ],
 "metadata": {
  "kernelspec": {
   "display_name": "Python 3",
   "language": "python",
   "name": "python3"
  },
  "language_info": {
   "codemirror_mode": {
    "name": "ipython",
    "version": 3
   },
   "file_extension": ".py",
   "mimetype": "text/x-python",
   "name": "python",
   "nbconvert_exporter": "python",
   "pygments_lexer": "ipython3",
   "version": "3.13.3"
  }
 },
 "nbformat": 4,
 "nbformat_minor": 5
}
