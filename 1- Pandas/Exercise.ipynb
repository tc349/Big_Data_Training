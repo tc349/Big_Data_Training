{
 "cells": [
  {
   "cell_type": "markdown",
   "id": "591bc04b",
   "metadata": {},
   "source": [
    "# Imports Libraries"
   ]
  },
  {
   "cell_type": "code",
   "execution_count": 4,
   "id": "2fe76ab7",
   "metadata": {},
   "outputs": [],
   "source": [
    "import pandas as pd"
   ]
  },
  {
   "cell_type": "markdown",
   "id": "76fe90ef",
   "metadata": {},
   "source": [
    "# Exercise 1\n",
    "\n",
    "1. Inner Join: Join employees.csv with salaries.csv on EmployeeID to get the salary details for each employee. "
   ]
  },
  {
   "cell_type": "code",
   "execution_count": 5,
   "id": "cd9b000f",
   "metadata": {},
   "outputs": [],
   "source": [
    "df_departments = pd.read_csv('datasets/departments.csv')\n",
    "df_employees = pd.read_csv('datasets/employees.csv')\n",
    "df_locations = pd.read_csv('datasets/locations.csv')\n",
    "df_projects = pd.read_csv('datasets/projects.csv')\n",
    "df_salaries = pd.read_csv('datasets/salaries.csv')"
   ]
  },
  {
   "cell_type": "code",
   "execution_count": 6,
   "id": "2ed03a1a",
   "metadata": {},
   "outputs": [
    {
     "name": "stdout",
     "output_type": "stream",
     "text": [
      "   EmployeeID       Name   Department  Salary  Bonus\n",
      "0           1       John  Engineering   55000   5000\n",
      "1           2       Anna    Marketing   46000   3000\n",
      "2           3      Peter  Engineering   60000   7000\n",
      "3           4      Linda           HR   75000   8000\n",
      "4           5      James    Marketing   49000   2000\n",
      "5           6   Patricia  Engineering   52000   4000\n",
      "6           7    Michael           HR   82000  10000\n",
      "7           8  Elizabeth  Engineering   67000   6000\n",
      "8           9      David    Marketing   43000   1500\n",
      "9          10      Susan           HR   90000  12000\n"
     ]
    }
   ],
   "source": [
    "# df_employees.join(df_salaries, on='EmployeeID', how='inner', lsuffix='_emp', rsuffix='_sal')\n",
    "print(pd.merge(df_employees, df_salaries, on=[\"EmployeeID\", \"Salary\"], how=\"inner\"))"
   ]
  },
  {
   "cell_type": "markdown",
   "id": "0a0004a8",
   "metadata": {},
   "source": [
    "2. Left Join: Join employees.csv with departments.csv on Department to get the department manager for each employee."
   ]
  },
  {
   "cell_type": "code",
   "execution_count": 7,
   "id": "43b688ba",
   "metadata": {},
   "outputs": [
    {
     "name": "stdout",
     "output_type": "stream",
     "text": [
      "   EmployeeID       Name   Department  Salary  DepartmentID        Manager\n",
      "0           1       John  Engineering   55000             1       John Doe\n",
      "1           2       Anna    Marketing   46000             2     Jane Smith\n",
      "2           3      Peter  Engineering   60000             1       John Doe\n",
      "3           4      Linda           HR   75000             3  Michael Brown\n",
      "4           5      James    Marketing   49000             2     Jane Smith\n",
      "5           6   Patricia  Engineering   52000             1       John Doe\n",
      "6           7    Michael           HR   82000             3  Michael Brown\n",
      "7           8  Elizabeth  Engineering   67000             1       John Doe\n",
      "8           9      David    Marketing   43000             2     Jane Smith\n",
      "9          10      Susan           HR   90000             3  Michael Brown\n"
     ]
    }
   ],
   "source": [
    "print(pd.merge(df_employees, df_departments, on=\"Department\", how=\"left\"))"
   ]
  },
  {
   "cell_type": "markdown",
   "id": "b3f680e7",
   "metadata": {},
   "source": [
    "3. Right Join: Join employees.csv with projects.csv on EmployeeID to get the projects assigned to employees, including those with no project. "
   ]
  },
  {
   "cell_type": "code",
   "execution_count": 8,
   "id": "1a82cecc",
   "metadata": {},
   "outputs": [
    {
     "name": "stdout",
     "output_type": "stream",
     "text": [
      "   EmployeeID       Name   Department  Salary  ProjectID      ProjectName\n",
      "0           1       John  Engineering   55000        101    Project Alpha\n",
      "1           2       Anna    Marketing   46000        102     Project Beta\n",
      "2           3      Peter  Engineering   60000        103    Project Gamma\n",
      "3           4      Linda           HR   75000        104    Project Delta\n",
      "4           5      James    Marketing   49000        105  Project Epsilon\n",
      "5           6   Patricia  Engineering   52000        106     Project Zeta\n",
      "6           7    Michael           HR   82000        107      Project Eta\n",
      "7           8  Elizabeth  Engineering   67000        108    Project Theta\n",
      "8           9      David    Marketing   43000        109     Project Iota\n",
      "9          10      Susan           HR   90000        110    Project Kappa\n"
     ]
    }
   ],
   "source": [
    "print(pd.merge(df_employees, df_projects, on=\"EmployeeID\", how='right'))"
   ]
  },
  {
   "cell_type": "markdown",
   "id": "09f04e62",
   "metadata": {},
   "source": [
    "4. Full Outer Join: Join salaries.csv with locations.csv on EmployeeID to get salary and location for all employees, even if some information is missing in one of the tables. "
   ]
  },
  {
   "cell_type": "code",
   "execution_count": 9,
   "id": "5b1fb19e",
   "metadata": {},
   "outputs": [
    {
     "name": "stdout",
     "output_type": "stream",
     "text": [
      "   EmployeeID  Salary  Bonus       Location\n",
      "0           1   55000   5000       New York\n",
      "1           2   46000   3000  San Francisco\n",
      "2           3   60000   7000         Boston\n",
      "3           4   75000   8000        Chicago\n",
      "4           5   49000   2000    Los Angeles\n",
      "5           6   52000   4000         Austin\n",
      "6           7   82000  10000          Miami\n",
      "7           8   67000   6000         Dallas\n",
      "8           9   43000   1500        Seattle\n",
      "9          10   90000  12000         Denver\n"
     ]
    }
   ],
   "source": [
    "print(pd.merge(df_salaries, df_locations, on=\"EmployeeID\", how='outer'))"
   ]
  },
  {
   "cell_type": "markdown",
   "id": "93f713c7",
   "metadata": {},
   "source": [
    "5. Self Join: Join employees.csv with itself based on Department to get the list of employees in the same department as a specific employee."
   ]
  },
  {
   "cell_type": "code",
   "execution_count": 10,
   "id": "adcb2a9f",
   "metadata": {},
   "outputs": [
    {
     "name": "stdout",
     "output_type": "stream",
     "text": [
      "   EmployeeID  Name   Department  EmployeeID_colleague Name_colleague  \\\n",
      "1           1  John  Engineering                     3          Peter   \n",
      "2           1  John  Engineering                     6       Patricia   \n",
      "3           1  John  Engineering                     8      Elizabeth   \n",
      "\n",
      "   Salary_colleague  \n",
      "1             60000  \n",
      "2             52000  \n",
      "3             67000  \n"
     ]
    }
   ],
   "source": [
    "# self join to find colleagues in the same department\n",
    "# Merge df_employees with itself to find colleagues in the same department\n",
    "merged_df = pd.merge(df_employees, df_employees, on=\"Department\", suffixes=('', '_colleague'))\n",
    "\n",
    "# Filter out rows where EmployeeID is the same for both employees\n",
    "same_dept = merged_df[merged_df['EmployeeID'] != merged_df['EmployeeID_colleague']]\n",
    "\n",
    "# filter to find colleagues of a specific employee (e.g., EmployeeID = 1)\n",
    "john_colleagues = same_dept[same_dept['EmployeeID'] == 1]\n",
    "\n",
    "# Select relevant columns to display\n",
    "colleagues = john_colleagues[['EmployeeID', 'Name', 'Department', 'EmployeeID_colleague', 'Name_colleague', 'Salary_colleague']]\n",
    "print(colleagues)"
   ]
  },
  {
   "cell_type": "markdown",
   "id": "f68efb3f",
   "metadata": {},
   "source": [
    "# Exercise 2\n",
    "\n",
    "1. Load a CSV file into a pandas DataFrame. "
   ]
  },
  {
   "cell_type": "code",
   "execution_count": 11,
   "id": "e69a034c",
   "metadata": {},
   "outputs": [],
   "source": [
    "df_departments = pd.read_csv('datasets/departments.csv')\n",
    "df_employees = pd.read_csv('datasets/employees.csv')\n",
    "df_locations = pd.read_csv('datasets/locations.csv')\n",
    "df_projects = pd.read_csv('datasets/projects.csv')\n",
    "df_salaries = pd.read_csv('datasets/salaries.csv')"
   ]
  },
  {
   "cell_type": "markdown",
   "id": "afb9de00",
   "metadata": {},
   "source": [
    "2. Check the first 5 rows of the DataFrame. "
   ]
  },
  {
   "cell_type": "code",
   "execution_count": 12,
   "id": "5544c77f",
   "metadata": {},
   "outputs": [
    {
     "data": {
      "text/html": [
       "<div>\n",
       "<style scoped>\n",
       "    .dataframe tbody tr th:only-of-type {\n",
       "        vertical-align: middle;\n",
       "    }\n",
       "\n",
       "    .dataframe tbody tr th {\n",
       "        vertical-align: top;\n",
       "    }\n",
       "\n",
       "    .dataframe thead th {\n",
       "        text-align: right;\n",
       "    }\n",
       "</style>\n",
       "<table border=\"1\" class=\"dataframe\">\n",
       "  <thead>\n",
       "    <tr style=\"text-align: right;\">\n",
       "      <th></th>\n",
       "      <th>EmployeeID</th>\n",
       "      <th>Name</th>\n",
       "      <th>Department</th>\n",
       "      <th>Salary</th>\n",
       "    </tr>\n",
       "  </thead>\n",
       "  <tbody>\n",
       "    <tr>\n",
       "      <th>0</th>\n",
       "      <td>1</td>\n",
       "      <td>John</td>\n",
       "      <td>Engineering</td>\n",
       "      <td>55000</td>\n",
       "    </tr>\n",
       "    <tr>\n",
       "      <th>1</th>\n",
       "      <td>2</td>\n",
       "      <td>Anna</td>\n",
       "      <td>Marketing</td>\n",
       "      <td>46000</td>\n",
       "    </tr>\n",
       "    <tr>\n",
       "      <th>2</th>\n",
       "      <td>3</td>\n",
       "      <td>Peter</td>\n",
       "      <td>Engineering</td>\n",
       "      <td>60000</td>\n",
       "    </tr>\n",
       "    <tr>\n",
       "      <th>3</th>\n",
       "      <td>4</td>\n",
       "      <td>Linda</td>\n",
       "      <td>HR</td>\n",
       "      <td>75000</td>\n",
       "    </tr>\n",
       "    <tr>\n",
       "      <th>4</th>\n",
       "      <td>5</td>\n",
       "      <td>James</td>\n",
       "      <td>Marketing</td>\n",
       "      <td>49000</td>\n",
       "    </tr>\n",
       "  </tbody>\n",
       "</table>\n",
       "</div>"
      ],
      "text/plain": [
       "   EmployeeID   Name   Department  Salary\n",
       "0           1   John  Engineering   55000\n",
       "1           2   Anna    Marketing   46000\n",
       "2           3  Peter  Engineering   60000\n",
       "3           4  Linda           HR   75000\n",
       "4           5  James    Marketing   49000"
      ]
     },
     "execution_count": 12,
     "metadata": {},
     "output_type": "execute_result"
    }
   ],
   "source": [
    "df_employees.head(5)"
   ]
  },
  {
   "cell_type": "markdown",
   "id": "521b5d67",
   "metadata": {},
   "source": [
    "3. Get the shape of the DataFrame (rows, columns)."
   ]
  },
  {
   "cell_type": "code",
   "execution_count": 13,
   "id": "4331ab29",
   "metadata": {},
   "outputs": [
    {
     "data": {
      "text/plain": [
       "(10, 4)"
      ]
     },
     "execution_count": 13,
     "metadata": {},
     "output_type": "execute_result"
    }
   ],
   "source": [
    "df_employees.shape"
   ]
  },
  {
   "cell_type": "markdown",
   "id": "e9bfed2f",
   "metadata": {},
   "source": [
    " \n",
    "4. Get summary statistics (mean, median, mode, std) of numerical columns."
   ]
  },
  {
   "cell_type": "code",
   "execution_count": 14,
   "id": "57a6c58b",
   "metadata": {},
   "outputs": [
    {
     "name": "stdout",
     "output_type": "stream",
     "text": [
      "Mean of Employee Data is:  61900.0\n",
      "Median of Employee Data is:  57500.0\n",
      "Mode of Employee Data is:  0    43000\n",
      "1    46000\n",
      "2    49000\n",
      "3    52000\n",
      "4    55000\n",
      "5    60000\n",
      "6    67000\n",
      "7    75000\n",
      "8    82000\n",
      "9    90000\n",
      "Name: Salary, dtype: int64\n",
      "STD Mode of Employee Data is:  16044.729144904048\n"
     ]
    }
   ],
   "source": [
    "print(\"Mean of Employee Data is: \",df_employees['Salary'].mean())\n",
    "print(\"Median of Employee Data is: \",df_employees['Salary'].median())\n",
    "print(\"Mode of Employee Data is: \",df_employees['Salary'].mode())\n",
    "print(\"STD Mode of Employee Data is: \",df_employees['Salary'].std())"
   ]
  },
  {
   "cell_type": "code",
   "execution_count": 15,
   "id": "70196e73",
   "metadata": {},
   "outputs": [
    {
     "data": {
      "text/plain": [
       "count       10.000000\n",
       "mean     61900.000000\n",
       "std      16044.729145\n",
       "min      43000.000000\n",
       "25%      49750.000000\n",
       "50%      57500.000000\n",
       "75%      73000.000000\n",
       "max      90000.000000\n",
       "Name: Salary, dtype: float64"
      ]
     },
     "execution_count": 15,
     "metadata": {},
     "output_type": "execute_result"
    }
   ],
   "source": [
    "# df_employees.describe()\n",
    "df_employees['Salary'].describe()"
   ]
  },
  {
   "cell_type": "markdown",
   "id": "4a86c280",
   "metadata": {},
   "source": [
    "5. Get the data types of each column. "
   ]
  },
  {
   "cell_type": "code",
   "execution_count": 16,
   "id": "53122e26",
   "metadata": {},
   "outputs": [
    {
     "name": "stdout",
     "output_type": "stream",
     "text": [
      "Employee Dataset each column data type:\n"
     ]
    },
    {
     "data": {
      "text/plain": [
       "EmployeeID     int64\n",
       "Name          object\n",
       "Department    object\n",
       "Salary         int64\n",
       "dtype: object"
      ]
     },
     "execution_count": 16,
     "metadata": {},
     "output_type": "execute_result"
    }
   ],
   "source": [
    "# print(\"EmployeeID data type is: \",df_employees['EmployeeID'].dtype)\n",
    "print(\"Employee Dataset each column data type:\")\n",
    "df_employees.dtypes"
   ]
  },
  {
   "cell_type": "markdown",
   "id": "3b86790e",
   "metadata": {},
   "source": [
    "6. Check for missing values in each column. "
   ]
  },
  {
   "cell_type": "code",
   "execution_count": 17,
   "id": "ce138584",
   "metadata": {},
   "outputs": [
    {
     "data": {
      "text/plain": [
       "EmployeeID    0\n",
       "Name          0\n",
       "Department    0\n",
       "Salary        0\n",
       "dtype: int64"
      ]
     },
     "execution_count": 17,
     "metadata": {},
     "output_type": "execute_result"
    }
   ],
   "source": [
    "df_employees.isnull().sum()"
   ]
  },
  {
   "cell_type": "markdown",
   "id": "56e3ab10",
   "metadata": {},
   "source": [
    "7. Rename a column in the DataFrame. "
   ]
  },
  {
   "cell_type": "code",
   "execution_count": 18,
   "id": "746a5781",
   "metadata": {},
   "outputs": [
    {
     "data": {
      "text/html": [
       "<div>\n",
       "<style scoped>\n",
       "    .dataframe tbody tr th:only-of-type {\n",
       "        vertical-align: middle;\n",
       "    }\n",
       "\n",
       "    .dataframe tbody tr th {\n",
       "        vertical-align: top;\n",
       "    }\n",
       "\n",
       "    .dataframe thead th {\n",
       "        text-align: right;\n",
       "    }\n",
       "</style>\n",
       "<table border=\"1\" class=\"dataframe\">\n",
       "  <thead>\n",
       "    <tr style=\"text-align: right;\">\n",
       "      <th></th>\n",
       "      <th>Employee_ID</th>\n",
       "      <th>Name</th>\n",
       "      <th>Department</th>\n",
       "      <th>Salary</th>\n",
       "    </tr>\n",
       "  </thead>\n",
       "  <tbody>\n",
       "    <tr>\n",
       "      <th>0</th>\n",
       "      <td>1</td>\n",
       "      <td>John</td>\n",
       "      <td>Engineering</td>\n",
       "      <td>55000</td>\n",
       "    </tr>\n",
       "    <tr>\n",
       "      <th>1</th>\n",
       "      <td>2</td>\n",
       "      <td>Anna</td>\n",
       "      <td>Marketing</td>\n",
       "      <td>46000</td>\n",
       "    </tr>\n",
       "    <tr>\n",
       "      <th>2</th>\n",
       "      <td>3</td>\n",
       "      <td>Peter</td>\n",
       "      <td>Engineering</td>\n",
       "      <td>60000</td>\n",
       "    </tr>\n",
       "    <tr>\n",
       "      <th>3</th>\n",
       "      <td>4</td>\n",
       "      <td>Linda</td>\n",
       "      <td>HR</td>\n",
       "      <td>75000</td>\n",
       "    </tr>\n",
       "    <tr>\n",
       "      <th>4</th>\n",
       "      <td>5</td>\n",
       "      <td>James</td>\n",
       "      <td>Marketing</td>\n",
       "      <td>49000</td>\n",
       "    </tr>\n",
       "    <tr>\n",
       "      <th>5</th>\n",
       "      <td>6</td>\n",
       "      <td>Patricia</td>\n",
       "      <td>Engineering</td>\n",
       "      <td>52000</td>\n",
       "    </tr>\n",
       "    <tr>\n",
       "      <th>6</th>\n",
       "      <td>7</td>\n",
       "      <td>Michael</td>\n",
       "      <td>HR</td>\n",
       "      <td>82000</td>\n",
       "    </tr>\n",
       "    <tr>\n",
       "      <th>7</th>\n",
       "      <td>8</td>\n",
       "      <td>Elizabeth</td>\n",
       "      <td>Engineering</td>\n",
       "      <td>67000</td>\n",
       "    </tr>\n",
       "    <tr>\n",
       "      <th>8</th>\n",
       "      <td>9</td>\n",
       "      <td>David</td>\n",
       "      <td>Marketing</td>\n",
       "      <td>43000</td>\n",
       "    </tr>\n",
       "    <tr>\n",
       "      <th>9</th>\n",
       "      <td>10</td>\n",
       "      <td>Susan</td>\n",
       "      <td>HR</td>\n",
       "      <td>90000</td>\n",
       "    </tr>\n",
       "  </tbody>\n",
       "</table>\n",
       "</div>"
      ],
      "text/plain": [
       "   Employee_ID       Name   Department  Salary\n",
       "0            1       John  Engineering   55000\n",
       "1            2       Anna    Marketing   46000\n",
       "2            3      Peter  Engineering   60000\n",
       "3            4      Linda           HR   75000\n",
       "4            5      James    Marketing   49000\n",
       "5            6   Patricia  Engineering   52000\n",
       "6            7    Michael           HR   82000\n",
       "7            8  Elizabeth  Engineering   67000\n",
       "8            9      David    Marketing   43000\n",
       "9           10      Susan           HR   90000"
      ]
     },
     "execution_count": 18,
     "metadata": {},
     "output_type": "execute_result"
    }
   ],
   "source": [
    "# first paramenter is the dictionary, where the keys are the old column names and the values are the new column names \n",
    "# The inplace parameter can be set to True to modify the DataFrame directly, or False (default) to return a new DataFrame with the renamed columns. \n",
    "# df_employees.rename(columns={'EmployeeID': 'Employee_ID', 'Department': 'dept'}, inplace=True)\n",
    "df_employees.rename(columns={'EmployeeID': 'Employee_ID'}, inplace=True)\n",
    "df_employees"
   ]
  },
  {
   "cell_type": "markdown",
   "id": "ba587686",
   "metadata": {},
   "source": [
    "8. Filter the DataFrame to get rows where a column value is greater than a certain number. \n",
    "\n",
    "    There are multiple way to filter the dataframe:\n",
    "- Boolean indexing -> Logical Operators (AND & , OR | , NOT ~ )\n",
    "- .loc Accessor\n",
    "- .isin()\n",
    "- .query()"
   ]
  },
  {
   "cell_type": "markdown",
   "id": "0bbf4c48",
   "metadata": {},
   "source": [
    "        I. Boolean Indexing -> Filtering using boolean indexing is done by creating a boolean series based on a condition and using it to select rows. Ideal for simple conditions (e.g., df[column] > value) filtering rows based on conditions applied to individual columns."
   ]
  },
  {
   "cell_type": "code",
   "execution_count": 19,
   "id": "dabd1414",
   "metadata": {},
   "outputs": [
    {
     "data": {
      "text/html": [
       "<div>\n",
       "<style scoped>\n",
       "    .dataframe tbody tr th:only-of-type {\n",
       "        vertical-align: middle;\n",
       "    }\n",
       "\n",
       "    .dataframe tbody tr th {\n",
       "        vertical-align: top;\n",
       "    }\n",
       "\n",
       "    .dataframe thead th {\n",
       "        text-align: right;\n",
       "    }\n",
       "</style>\n",
       "<table border=\"1\" class=\"dataframe\">\n",
       "  <thead>\n",
       "    <tr style=\"text-align: right;\">\n",
       "      <th></th>\n",
       "      <th>Employee_ID</th>\n",
       "      <th>Name</th>\n",
       "      <th>Department</th>\n",
       "      <th>Salary</th>\n",
       "    </tr>\n",
       "  </thead>\n",
       "  <tbody>\n",
       "    <tr>\n",
       "      <th>6</th>\n",
       "      <td>7</td>\n",
       "      <td>Michael</td>\n",
       "      <td>HR</td>\n",
       "      <td>82000</td>\n",
       "    </tr>\n",
       "    <tr>\n",
       "      <th>9</th>\n",
       "      <td>10</td>\n",
       "      <td>Susan</td>\n",
       "      <td>HR</td>\n",
       "      <td>90000</td>\n",
       "    </tr>\n",
       "  </tbody>\n",
       "</table>\n",
       "</div>"
      ],
      "text/plain": [
       "   Employee_ID     Name Department  Salary\n",
       "6            7  Michael         HR   82000\n",
       "9           10    Susan         HR   90000"
      ]
     },
     "execution_count": 19,
     "metadata": {},
     "output_type": "execute_result"
    }
   ],
   "source": [
    "# single condition\n",
    "# df_employees[df_employees['Salary'] >= 75000]\n",
    "df_employees[df_employees['Salary'] > 75000]"
   ]
  },
  {
   "cell_type": "code",
   "execution_count": 20,
   "id": "0c194407",
   "metadata": {},
   "outputs": [
    {
     "data": {
      "text/html": [
       "<div>\n",
       "<style scoped>\n",
       "    .dataframe tbody tr th:only-of-type {\n",
       "        vertical-align: middle;\n",
       "    }\n",
       "\n",
       "    .dataframe tbody tr th {\n",
       "        vertical-align: top;\n",
       "    }\n",
       "\n",
       "    .dataframe thead th {\n",
       "        text-align: right;\n",
       "    }\n",
       "</style>\n",
       "<table border=\"1\" class=\"dataframe\">\n",
       "  <thead>\n",
       "    <tr style=\"text-align: right;\">\n",
       "      <th></th>\n",
       "      <th>Employee_ID</th>\n",
       "      <th>Name</th>\n",
       "      <th>Department</th>\n",
       "      <th>Salary</th>\n",
       "    </tr>\n",
       "  </thead>\n",
       "  <tbody>\n",
       "    <tr>\n",
       "      <th>1</th>\n",
       "      <td>2</td>\n",
       "      <td>Anna</td>\n",
       "      <td>Marketing</td>\n",
       "      <td>46000</td>\n",
       "    </tr>\n",
       "    <tr>\n",
       "      <th>4</th>\n",
       "      <td>5</td>\n",
       "      <td>James</td>\n",
       "      <td>Marketing</td>\n",
       "      <td>49000</td>\n",
       "    </tr>\n",
       "    <tr>\n",
       "      <th>8</th>\n",
       "      <td>9</td>\n",
       "      <td>David</td>\n",
       "      <td>Marketing</td>\n",
       "      <td>43000</td>\n",
       "    </tr>\n",
       "  </tbody>\n",
       "</table>\n",
       "</div>"
      ],
      "text/plain": [
       "   Employee_ID   Name Department  Salary\n",
       "1            2   Anna  Marketing   46000\n",
       "4            5  James  Marketing   49000\n",
       "8            9  David  Marketing   43000"
      ]
     },
     "execution_count": 20,
     "metadata": {},
     "output_type": "execute_result"
    }
   ],
   "source": [
    "# multiple conditions\n",
    "# df_employees[(df_employees['Salary'] > 50000) & (df_employees['Department'] == 'Engineering')]\n",
    "# df_employees[(df_employees['Salary'] > 50000) | (df_employees['Department'] == 'HR')]\n",
    "df_employees[~(df_employees['Salary'] > 50000)]"
   ]
  },
  {
   "cell_type": "markdown",
   "id": "30df3c8c",
   "metadata": {},
   "source": [
    "        II. The '.loc[]' accessor allows filtering based on labels (row names or column names). When we need to filter both rows and columns simultaneously. Apply conditions to rows and select specific columns.\n"
   ]
  },
  {
   "cell_type": "code",
   "execution_count": 21,
   "id": "29b7a8c9",
   "metadata": {},
   "outputs": [
    {
     "data": {
      "text/html": [
       "<div>\n",
       "<style scoped>\n",
       "    .dataframe tbody tr th:only-of-type {\n",
       "        vertical-align: middle;\n",
       "    }\n",
       "\n",
       "    .dataframe tbody tr th {\n",
       "        vertical-align: top;\n",
       "    }\n",
       "\n",
       "    .dataframe thead th {\n",
       "        text-align: right;\n",
       "    }\n",
       "</style>\n",
       "<table border=\"1\" class=\"dataframe\">\n",
       "  <thead>\n",
       "    <tr style=\"text-align: right;\">\n",
       "      <th></th>\n",
       "      <th>Department</th>\n",
       "      <th>Salary</th>\n",
       "    </tr>\n",
       "  </thead>\n",
       "  <tbody>\n",
       "    <tr>\n",
       "      <th>3</th>\n",
       "      <td>HR</td>\n",
       "      <td>75000</td>\n",
       "    </tr>\n",
       "    <tr>\n",
       "      <th>6</th>\n",
       "      <td>HR</td>\n",
       "      <td>82000</td>\n",
       "    </tr>\n",
       "    <tr>\n",
       "      <th>9</th>\n",
       "      <td>HR</td>\n",
       "      <td>90000</td>\n",
       "    </tr>\n",
       "  </tbody>\n",
       "</table>\n",
       "</div>"
      ],
      "text/plain": [
       "  Department  Salary\n",
       "3         HR   75000\n",
       "6         HR   82000\n",
       "9         HR   90000"
      ]
     },
     "execution_count": 21,
     "metadata": {},
     "output_type": "execute_result"
    }
   ],
   "source": [
    "df_employees.loc[df_employees['Salary'] > 67000, ['Department', 'Salary']]"
   ]
  },
  {
   "cell_type": "markdown",
   "id": "00e855b4",
   "metadata": {},
   "source": [
    "        III. The '.isin()' is useful when you want to filter rows based on whether a column’s value exists in a list of values. Best when checking if a column’s value is in a list of specific values. Use when filtering rows based on membership in a list, series, or array."
   ]
  },
  {
   "cell_type": "code",
   "execution_count": 22,
   "id": "bfc25847",
   "metadata": {},
   "outputs": [
    {
     "data": {
      "text/html": [
       "<div>\n",
       "<style scoped>\n",
       "    .dataframe tbody tr th:only-of-type {\n",
       "        vertical-align: middle;\n",
       "    }\n",
       "\n",
       "    .dataframe tbody tr th {\n",
       "        vertical-align: top;\n",
       "    }\n",
       "\n",
       "    .dataframe thead th {\n",
       "        text-align: right;\n",
       "    }\n",
       "</style>\n",
       "<table border=\"1\" class=\"dataframe\">\n",
       "  <thead>\n",
       "    <tr style=\"text-align: right;\">\n",
       "      <th></th>\n",
       "      <th>Employee_ID</th>\n",
       "      <th>Name</th>\n",
       "      <th>Department</th>\n",
       "      <th>Salary</th>\n",
       "    </tr>\n",
       "  </thead>\n",
       "  <tbody>\n",
       "    <tr>\n",
       "      <th>2</th>\n",
       "      <td>3</td>\n",
       "      <td>Peter</td>\n",
       "      <td>Engineering</td>\n",
       "      <td>60000</td>\n",
       "    </tr>\n",
       "    <tr>\n",
       "      <th>9</th>\n",
       "      <td>10</td>\n",
       "      <td>Susan</td>\n",
       "      <td>HR</td>\n",
       "      <td>90000</td>\n",
       "    </tr>\n",
       "  </tbody>\n",
       "</table>\n",
       "</div>"
      ],
      "text/plain": [
       "   Employee_ID   Name   Department  Salary\n",
       "2            3  Peter  Engineering   60000\n",
       "9           10  Susan           HR   90000"
      ]
     },
     "execution_count": 22,
     "metadata": {},
     "output_type": "execute_result"
    }
   ],
   "source": [
    "df_employees[df_employees['Salary'].isin([60000, 90000])]"
   ]
  },
  {
   "cell_type": "markdown",
   "id": "9fe10a54",
   "metadata": {},
   "source": [
    "        IV. The .query() method allows filtering using a string-based query, similar to SQL. Ideal for complex conditions written in a SQL-like syntax."
   ]
  },
  {
   "cell_type": "code",
   "execution_count": 23,
   "id": "7102d591",
   "metadata": {},
   "outputs": [
    {
     "data": {
      "text/html": [
       "<div>\n",
       "<style scoped>\n",
       "    .dataframe tbody tr th:only-of-type {\n",
       "        vertical-align: middle;\n",
       "    }\n",
       "\n",
       "    .dataframe tbody tr th {\n",
       "        vertical-align: top;\n",
       "    }\n",
       "\n",
       "    .dataframe thead th {\n",
       "        text-align: right;\n",
       "    }\n",
       "</style>\n",
       "<table border=\"1\" class=\"dataframe\">\n",
       "  <thead>\n",
       "    <tr style=\"text-align: right;\">\n",
       "      <th></th>\n",
       "      <th>Employee_ID</th>\n",
       "      <th>Name</th>\n",
       "      <th>Department</th>\n",
       "      <th>Salary</th>\n",
       "    </tr>\n",
       "  </thead>\n",
       "  <tbody>\n",
       "    <tr>\n",
       "      <th>7</th>\n",
       "      <td>8</td>\n",
       "      <td>Elizabeth</td>\n",
       "      <td>Engineering</td>\n",
       "      <td>67000</td>\n",
       "    </tr>\n",
       "  </tbody>\n",
       "</table>\n",
       "</div>"
      ],
      "text/plain": [
       "   Employee_ID       Name   Department  Salary\n",
       "7            8  Elizabeth  Engineering   67000"
      ]
     },
     "execution_count": 23,
     "metadata": {},
     "output_type": "execute_result"
    }
   ],
   "source": [
    "df_employees.query('Salary > 60000 and Department == \"Engineering\"')"
   ]
  },
  {
   "cell_type": "markdown",
   "id": "49617845",
   "metadata": {},
   "source": [
    "9. Select specific columns from the DataFrame."
   ]
  },
  {
   "cell_type": "code",
   "execution_count": 24,
   "id": "ec82bf88",
   "metadata": {},
   "outputs": [
    {
     "data": {
      "text/html": [
       "<div>\n",
       "<style scoped>\n",
       "    .dataframe tbody tr th:only-of-type {\n",
       "        vertical-align: middle;\n",
       "    }\n",
       "\n",
       "    .dataframe tbody tr th {\n",
       "        vertical-align: top;\n",
       "    }\n",
       "\n",
       "    .dataframe thead th {\n",
       "        text-align: right;\n",
       "    }\n",
       "</style>\n",
       "<table border=\"1\" class=\"dataframe\">\n",
       "  <thead>\n",
       "    <tr style=\"text-align: right;\">\n",
       "      <th></th>\n",
       "      <th>Name</th>\n",
       "      <th>Department</th>\n",
       "    </tr>\n",
       "  </thead>\n",
       "  <tbody>\n",
       "    <tr>\n",
       "      <th>0</th>\n",
       "      <td>John</td>\n",
       "      <td>Engineering</td>\n",
       "    </tr>\n",
       "    <tr>\n",
       "      <th>1</th>\n",
       "      <td>Anna</td>\n",
       "      <td>Marketing</td>\n",
       "    </tr>\n",
       "    <tr>\n",
       "      <th>2</th>\n",
       "      <td>Peter</td>\n",
       "      <td>Engineering</td>\n",
       "    </tr>\n",
       "    <tr>\n",
       "      <th>3</th>\n",
       "      <td>Linda</td>\n",
       "      <td>HR</td>\n",
       "    </tr>\n",
       "    <tr>\n",
       "      <th>4</th>\n",
       "      <td>James</td>\n",
       "      <td>Marketing</td>\n",
       "    </tr>\n",
       "    <tr>\n",
       "      <th>5</th>\n",
       "      <td>Patricia</td>\n",
       "      <td>Engineering</td>\n",
       "    </tr>\n",
       "    <tr>\n",
       "      <th>6</th>\n",
       "      <td>Michael</td>\n",
       "      <td>HR</td>\n",
       "    </tr>\n",
       "    <tr>\n",
       "      <th>7</th>\n",
       "      <td>Elizabeth</td>\n",
       "      <td>Engineering</td>\n",
       "    </tr>\n",
       "    <tr>\n",
       "      <th>8</th>\n",
       "      <td>David</td>\n",
       "      <td>Marketing</td>\n",
       "    </tr>\n",
       "    <tr>\n",
       "      <th>9</th>\n",
       "      <td>Susan</td>\n",
       "      <td>HR</td>\n",
       "    </tr>\n",
       "  </tbody>\n",
       "</table>\n",
       "</div>"
      ],
      "text/plain": [
       "        Name   Department\n",
       "0       John  Engineering\n",
       "1       Anna    Marketing\n",
       "2      Peter  Engineering\n",
       "3      Linda           HR\n",
       "4      James    Marketing\n",
       "5   Patricia  Engineering\n",
       "6    Michael           HR\n",
       "7  Elizabeth  Engineering\n",
       "8      David    Marketing\n",
       "9      Susan           HR"
      ]
     },
     "execution_count": 24,
     "metadata": {},
     "output_type": "execute_result"
    }
   ],
   "source": [
    "df_employees[['Name','Department']]"
   ]
  },
  {
   "cell_type": "markdown",
   "id": "8aa3d0c4",
   "metadata": {},
   "source": [
    "10. Drop a column from the DataFrame."
   ]
  },
  {
   "cell_type": "code",
   "execution_count": 25,
   "id": "3c8815a7",
   "metadata": {},
   "outputs": [
    {
     "data": {
      "text/html": [
       "<div>\n",
       "<style scoped>\n",
       "    .dataframe tbody tr th:only-of-type {\n",
       "        vertical-align: middle;\n",
       "    }\n",
       "\n",
       "    .dataframe tbody tr th {\n",
       "        vertical-align: top;\n",
       "    }\n",
       "\n",
       "    .dataframe thead th {\n",
       "        text-align: right;\n",
       "    }\n",
       "</style>\n",
       "<table border=\"1\" class=\"dataframe\">\n",
       "  <thead>\n",
       "    <tr style=\"text-align: right;\">\n",
       "      <th></th>\n",
       "      <th>Name</th>\n",
       "      <th>Salary</th>\n",
       "    </tr>\n",
       "  </thead>\n",
       "  <tbody>\n",
       "    <tr>\n",
       "      <th>0</th>\n",
       "      <td>John</td>\n",
       "      <td>55000</td>\n",
       "    </tr>\n",
       "    <tr>\n",
       "      <th>1</th>\n",
       "      <td>Anna</td>\n",
       "      <td>46000</td>\n",
       "    </tr>\n",
       "    <tr>\n",
       "      <th>2</th>\n",
       "      <td>Peter</td>\n",
       "      <td>60000</td>\n",
       "    </tr>\n",
       "    <tr>\n",
       "      <th>3</th>\n",
       "      <td>Linda</td>\n",
       "      <td>75000</td>\n",
       "    </tr>\n",
       "    <tr>\n",
       "      <th>4</th>\n",
       "      <td>James</td>\n",
       "      <td>49000</td>\n",
       "    </tr>\n",
       "    <tr>\n",
       "      <th>5</th>\n",
       "      <td>Patricia</td>\n",
       "      <td>52000</td>\n",
       "    </tr>\n",
       "    <tr>\n",
       "      <th>6</th>\n",
       "      <td>Michael</td>\n",
       "      <td>82000</td>\n",
       "    </tr>\n",
       "    <tr>\n",
       "      <th>7</th>\n",
       "      <td>Elizabeth</td>\n",
       "      <td>67000</td>\n",
       "    </tr>\n",
       "    <tr>\n",
       "      <th>8</th>\n",
       "      <td>David</td>\n",
       "      <td>43000</td>\n",
       "    </tr>\n",
       "    <tr>\n",
       "      <th>9</th>\n",
       "      <td>Susan</td>\n",
       "      <td>90000</td>\n",
       "    </tr>\n",
       "  </tbody>\n",
       "</table>\n",
       "</div>"
      ],
      "text/plain": [
       "        Name  Salary\n",
       "0       John   55000\n",
       "1       Anna   46000\n",
       "2      Peter   60000\n",
       "3      Linda   75000\n",
       "4      James   49000\n",
       "5   Patricia   52000\n",
       "6    Michael   82000\n",
       "7  Elizabeth   67000\n",
       "8      David   43000\n",
       "9      Susan   90000"
      ]
     },
     "execution_count": 25,
     "metadata": {},
     "output_type": "execute_result"
    }
   ],
   "source": [
    "# Drop a single column\n",
    "# df_employees.drop('Department', axis=1)\n",
    "\n",
    "# Drop multiple columns\n",
    "df_employees.drop(['Department', 'Employee_ID'], axis=1)"
   ]
  },
  {
   "cell_type": "markdown",
   "id": "1ac37536",
   "metadata": {},
   "source": [
    "11. Apply a transformation to a column (e.g., multiply each value by 2)."
   ]
  },
  {
   "cell_type": "code",
   "execution_count": 26,
   "id": "690a8af0",
   "metadata": {},
   "outputs": [
    {
     "data": {
      "text/html": [
       "<div>\n",
       "<style scoped>\n",
       "    .dataframe tbody tr th:only-of-type {\n",
       "        vertical-align: middle;\n",
       "    }\n",
       "\n",
       "    .dataframe tbody tr th {\n",
       "        vertical-align: top;\n",
       "    }\n",
       "\n",
       "    .dataframe thead th {\n",
       "        text-align: right;\n",
       "    }\n",
       "</style>\n",
       "<table border=\"1\" class=\"dataframe\">\n",
       "  <thead>\n",
       "    <tr style=\"text-align: right;\">\n",
       "      <th></th>\n",
       "      <th>Employee_ID</th>\n",
       "      <th>Name</th>\n",
       "      <th>Department</th>\n",
       "      <th>Salary</th>\n",
       "    </tr>\n",
       "  </thead>\n",
       "  <tbody>\n",
       "    <tr>\n",
       "      <th>0</th>\n",
       "      <td>1</td>\n",
       "      <td>John</td>\n",
       "      <td>Engineering</td>\n",
       "      <td>110000</td>\n",
       "    </tr>\n",
       "    <tr>\n",
       "      <th>1</th>\n",
       "      <td>2</td>\n",
       "      <td>Anna</td>\n",
       "      <td>Marketing</td>\n",
       "      <td>92000</td>\n",
       "    </tr>\n",
       "    <tr>\n",
       "      <th>2</th>\n",
       "      <td>3</td>\n",
       "      <td>Peter</td>\n",
       "      <td>Engineering</td>\n",
       "      <td>120000</td>\n",
       "    </tr>\n",
       "    <tr>\n",
       "      <th>3</th>\n",
       "      <td>4</td>\n",
       "      <td>Linda</td>\n",
       "      <td>HR</td>\n",
       "      <td>150000</td>\n",
       "    </tr>\n",
       "    <tr>\n",
       "      <th>4</th>\n",
       "      <td>5</td>\n",
       "      <td>James</td>\n",
       "      <td>Marketing</td>\n",
       "      <td>98000</td>\n",
       "    </tr>\n",
       "    <tr>\n",
       "      <th>5</th>\n",
       "      <td>6</td>\n",
       "      <td>Patricia</td>\n",
       "      <td>Engineering</td>\n",
       "      <td>104000</td>\n",
       "    </tr>\n",
       "    <tr>\n",
       "      <th>6</th>\n",
       "      <td>7</td>\n",
       "      <td>Michael</td>\n",
       "      <td>HR</td>\n",
       "      <td>164000</td>\n",
       "    </tr>\n",
       "    <tr>\n",
       "      <th>7</th>\n",
       "      <td>8</td>\n",
       "      <td>Elizabeth</td>\n",
       "      <td>Engineering</td>\n",
       "      <td>134000</td>\n",
       "    </tr>\n",
       "    <tr>\n",
       "      <th>8</th>\n",
       "      <td>9</td>\n",
       "      <td>David</td>\n",
       "      <td>Marketing</td>\n",
       "      <td>86000</td>\n",
       "    </tr>\n",
       "    <tr>\n",
       "      <th>9</th>\n",
       "      <td>10</td>\n",
       "      <td>Susan</td>\n",
       "      <td>HR</td>\n",
       "      <td>180000</td>\n",
       "    </tr>\n",
       "  </tbody>\n",
       "</table>\n",
       "</div>"
      ],
      "text/plain": [
       "   Employee_ID       Name   Department  Salary\n",
       "0            1       John  Engineering  110000\n",
       "1            2       Anna    Marketing   92000\n",
       "2            3      Peter  Engineering  120000\n",
       "3            4      Linda           HR  150000\n",
       "4            5      James    Marketing   98000\n",
       "5            6   Patricia  Engineering  104000\n",
       "6            7    Michael           HR  164000\n",
       "7            8  Elizabeth  Engineering  134000\n",
       "8            9      David    Marketing   86000\n",
       "9           10      Susan           HR  180000"
      ]
     },
     "execution_count": 26,
     "metadata": {},
     "output_type": "execute_result"
    }
   ],
   "source": [
    "# df_employees['Salary'] = df_employees['Salary'] * 2\n",
    "df_employees['Salary'] = df_employees['Salary'].apply(lambda x: x * 2)\n",
    "df_employees"
   ]
  },
  {
   "cell_type": "markdown",
   "id": "a26025c5",
   "metadata": {},
   "source": [
    "12. Add a new column based on an operation on existing columns. "
   ]
  },
  {
   "cell_type": "code",
   "execution_count": 27,
   "id": "65a03360",
   "metadata": {},
   "outputs": [
    {
     "data": {
      "text/html": [
       "<div>\n",
       "<style scoped>\n",
       "    .dataframe tbody tr th:only-of-type {\n",
       "        vertical-align: middle;\n",
       "    }\n",
       "\n",
       "    .dataframe tbody tr th {\n",
       "        vertical-align: top;\n",
       "    }\n",
       "\n",
       "    .dataframe thead th {\n",
       "        text-align: right;\n",
       "    }\n",
       "</style>\n",
       "<table border=\"1\" class=\"dataframe\">\n",
       "  <thead>\n",
       "    <tr style=\"text-align: right;\">\n",
       "      <th></th>\n",
       "      <th>Employee_ID</th>\n",
       "      <th>Name</th>\n",
       "      <th>Department</th>\n",
       "      <th>Salary</th>\n",
       "      <th>Bonus</th>\n",
       "    </tr>\n",
       "  </thead>\n",
       "  <tbody>\n",
       "    <tr>\n",
       "      <th>0</th>\n",
       "      <td>1</td>\n",
       "      <td>John</td>\n",
       "      <td>Engineering</td>\n",
       "      <td>110000</td>\n",
       "      <td>11000.0</td>\n",
       "    </tr>\n",
       "    <tr>\n",
       "      <th>1</th>\n",
       "      <td>2</td>\n",
       "      <td>Anna</td>\n",
       "      <td>Marketing</td>\n",
       "      <td>92000</td>\n",
       "      <td>7360.0</td>\n",
       "    </tr>\n",
       "    <tr>\n",
       "      <th>2</th>\n",
       "      <td>3</td>\n",
       "      <td>Peter</td>\n",
       "      <td>Engineering</td>\n",
       "      <td>120000</td>\n",
       "      <td>12000.0</td>\n",
       "    </tr>\n",
       "    <tr>\n",
       "      <th>3</th>\n",
       "      <td>4</td>\n",
       "      <td>Linda</td>\n",
       "      <td>HR</td>\n",
       "      <td>150000</td>\n",
       "      <td>7500.0</td>\n",
       "    </tr>\n",
       "    <tr>\n",
       "      <th>4</th>\n",
       "      <td>5</td>\n",
       "      <td>James</td>\n",
       "      <td>Marketing</td>\n",
       "      <td>98000</td>\n",
       "      <td>7840.0</td>\n",
       "    </tr>\n",
       "    <tr>\n",
       "      <th>5</th>\n",
       "      <td>6</td>\n",
       "      <td>Patricia</td>\n",
       "      <td>Engineering</td>\n",
       "      <td>104000</td>\n",
       "      <td>10400.0</td>\n",
       "    </tr>\n",
       "    <tr>\n",
       "      <th>6</th>\n",
       "      <td>7</td>\n",
       "      <td>Michael</td>\n",
       "      <td>HR</td>\n",
       "      <td>164000</td>\n",
       "      <td>8200.0</td>\n",
       "    </tr>\n",
       "    <tr>\n",
       "      <th>7</th>\n",
       "      <td>8</td>\n",
       "      <td>Elizabeth</td>\n",
       "      <td>Engineering</td>\n",
       "      <td>134000</td>\n",
       "      <td>13400.0</td>\n",
       "    </tr>\n",
       "    <tr>\n",
       "      <th>8</th>\n",
       "      <td>9</td>\n",
       "      <td>David</td>\n",
       "      <td>Marketing</td>\n",
       "      <td>86000</td>\n",
       "      <td>6880.0</td>\n",
       "    </tr>\n",
       "    <tr>\n",
       "      <th>9</th>\n",
       "      <td>10</td>\n",
       "      <td>Susan</td>\n",
       "      <td>HR</td>\n",
       "      <td>180000</td>\n",
       "      <td>9000.0</td>\n",
       "    </tr>\n",
       "  </tbody>\n",
       "</table>\n",
       "</div>"
      ],
      "text/plain": [
       "   Employee_ID       Name   Department  Salary    Bonus\n",
       "0            1       John  Engineering  110000  11000.0\n",
       "1            2       Anna    Marketing   92000   7360.0\n",
       "2            3      Peter  Engineering  120000  12000.0\n",
       "3            4      Linda           HR  150000   7500.0\n",
       "4            5      James    Marketing   98000   7840.0\n",
       "5            6   Patricia  Engineering  104000  10400.0\n",
       "6            7    Michael           HR  164000   8200.0\n",
       "7            8  Elizabeth  Engineering  134000  13400.0\n",
       "8            9      David    Marketing   86000   6880.0\n",
       "9           10      Susan           HR  180000   9000.0"
      ]
     },
     "execution_count": 27,
     "metadata": {},
     "output_type": "execute_result"
    }
   ],
   "source": [
    "df_employees.loc[df_employees['Department'] == 'HR', 'Bonus'] = df_employees['Salary'] * 0.05\n",
    "df_employees.loc[df_employees['Department'] == 'Marketing', 'Bonus'] = df_employees['Salary'] * 0.08\n",
    "df_employees.loc[df_employees['Department'] == 'Engineering', 'Bonus'] = df_employees['Salary'] * 0.1\n",
    "\n",
    "df_employees"
   ]
  },
  {
   "cell_type": "markdown",
   "id": "2978daa6",
   "metadata": {},
   "source": [
    "13. Group the data by a categorical column and get the mean of each group. "
   ]
  },
  {
   "cell_type": "code",
   "execution_count": 28,
   "id": "dd3171ff",
   "metadata": {},
   "outputs": [
    {
     "data": {
      "text/plain": [
       "Department\n",
       "Engineering    117000.000000\n",
       "HR             164666.666667\n",
       "Marketing       92000.000000\n",
       "Name: Salary, dtype: float64"
      ]
     },
     "execution_count": 28,
     "metadata": {},
     "output_type": "execute_result"
    }
   ],
   "source": [
    "df_employees.groupby('Department')['Salary'].mean()"
   ]
  },
  {
   "cell_type": "markdown",
   "id": "6ec8fdcd",
   "metadata": {},
   "source": [
    "14. Sort the DataFrame based on a specific column. "
   ]
  },
  {
   "cell_type": "code",
   "execution_count": 29,
   "id": "3c4a3d72",
   "metadata": {},
   "outputs": [
    {
     "data": {
      "text/html": [
       "<div>\n",
       "<style scoped>\n",
       "    .dataframe tbody tr th:only-of-type {\n",
       "        vertical-align: middle;\n",
       "    }\n",
       "\n",
       "    .dataframe tbody tr th {\n",
       "        vertical-align: top;\n",
       "    }\n",
       "\n",
       "    .dataframe thead th {\n",
       "        text-align: right;\n",
       "    }\n",
       "</style>\n",
       "<table border=\"1\" class=\"dataframe\">\n",
       "  <thead>\n",
       "    <tr style=\"text-align: right;\">\n",
       "      <th></th>\n",
       "      <th>Employee_ID</th>\n",
       "      <th>Name</th>\n",
       "      <th>Department</th>\n",
       "      <th>Salary</th>\n",
       "      <th>Bonus</th>\n",
       "    </tr>\n",
       "  </thead>\n",
       "  <tbody>\n",
       "    <tr>\n",
       "      <th>0</th>\n",
       "      <td>1</td>\n",
       "      <td>John</td>\n",
       "      <td>Engineering</td>\n",
       "      <td>110000</td>\n",
       "      <td>11000.0</td>\n",
       "    </tr>\n",
       "    <tr>\n",
       "      <th>2</th>\n",
       "      <td>3</td>\n",
       "      <td>Peter</td>\n",
       "      <td>Engineering</td>\n",
       "      <td>120000</td>\n",
       "      <td>12000.0</td>\n",
       "    </tr>\n",
       "    <tr>\n",
       "      <th>5</th>\n",
       "      <td>6</td>\n",
       "      <td>Patricia</td>\n",
       "      <td>Engineering</td>\n",
       "      <td>104000</td>\n",
       "      <td>10400.0</td>\n",
       "    </tr>\n",
       "    <tr>\n",
       "      <th>7</th>\n",
       "      <td>8</td>\n",
       "      <td>Elizabeth</td>\n",
       "      <td>Engineering</td>\n",
       "      <td>134000</td>\n",
       "      <td>13400.0</td>\n",
       "    </tr>\n",
       "    <tr>\n",
       "      <th>3</th>\n",
       "      <td>4</td>\n",
       "      <td>Linda</td>\n",
       "      <td>HR</td>\n",
       "      <td>150000</td>\n",
       "      <td>7500.0</td>\n",
       "    </tr>\n",
       "    <tr>\n",
       "      <th>6</th>\n",
       "      <td>7</td>\n",
       "      <td>Michael</td>\n",
       "      <td>HR</td>\n",
       "      <td>164000</td>\n",
       "      <td>8200.0</td>\n",
       "    </tr>\n",
       "    <tr>\n",
       "      <th>9</th>\n",
       "      <td>10</td>\n",
       "      <td>Susan</td>\n",
       "      <td>HR</td>\n",
       "      <td>180000</td>\n",
       "      <td>9000.0</td>\n",
       "    </tr>\n",
       "    <tr>\n",
       "      <th>1</th>\n",
       "      <td>2</td>\n",
       "      <td>Anna</td>\n",
       "      <td>Marketing</td>\n",
       "      <td>92000</td>\n",
       "      <td>7360.0</td>\n",
       "    </tr>\n",
       "    <tr>\n",
       "      <th>4</th>\n",
       "      <td>5</td>\n",
       "      <td>James</td>\n",
       "      <td>Marketing</td>\n",
       "      <td>98000</td>\n",
       "      <td>7840.0</td>\n",
       "    </tr>\n",
       "    <tr>\n",
       "      <th>8</th>\n",
       "      <td>9</td>\n",
       "      <td>David</td>\n",
       "      <td>Marketing</td>\n",
       "      <td>86000</td>\n",
       "      <td>6880.0</td>\n",
       "    </tr>\n",
       "  </tbody>\n",
       "</table>\n",
       "</div>"
      ],
      "text/plain": [
       "   Employee_ID       Name   Department  Salary    Bonus\n",
       "0            1       John  Engineering  110000  11000.0\n",
       "2            3      Peter  Engineering  120000  12000.0\n",
       "5            6   Patricia  Engineering  104000  10400.0\n",
       "7            8  Elizabeth  Engineering  134000  13400.0\n",
       "3            4      Linda           HR  150000   7500.0\n",
       "6            7    Michael           HR  164000   8200.0\n",
       "9           10      Susan           HR  180000   9000.0\n",
       "1            2       Anna    Marketing   92000   7360.0\n",
       "4            5      James    Marketing   98000   7840.0\n",
       "8            9      David    Marketing   86000   6880.0"
      ]
     },
     "execution_count": 29,
     "metadata": {},
     "output_type": "execute_result"
    }
   ],
   "source": [
    "df_employees.sort_values(by='Department')"
   ]
  },
  {
   "cell_type": "markdown",
   "id": "7ea7c0b6",
   "metadata": {},
   "source": [
    "15. Merge two DataFrames on a common column. "
   ]
  },
  {
   "cell_type": "code",
   "execution_count": 30,
   "id": "374483ed",
   "metadata": {},
   "outputs": [
    {
     "data": {
      "text/html": [
       "<div>\n",
       "<style scoped>\n",
       "    .dataframe tbody tr th:only-of-type {\n",
       "        vertical-align: middle;\n",
       "    }\n",
       "\n",
       "    .dataframe tbody tr th {\n",
       "        vertical-align: top;\n",
       "    }\n",
       "\n",
       "    .dataframe thead th {\n",
       "        text-align: right;\n",
       "    }\n",
       "</style>\n",
       "<table border=\"1\" class=\"dataframe\">\n",
       "  <thead>\n",
       "    <tr style=\"text-align: right;\">\n",
       "      <th></th>\n",
       "      <th>EmployeeID</th>\n",
       "      <th>Name</th>\n",
       "      <th>Department</th>\n",
       "      <th>Salary</th>\n",
       "      <th>Bonus</th>\n",
       "      <th>Location</th>\n",
       "    </tr>\n",
       "  </thead>\n",
       "  <tbody>\n",
       "    <tr>\n",
       "      <th>0</th>\n",
       "      <td>1</td>\n",
       "      <td>John</td>\n",
       "      <td>Engineering</td>\n",
       "      <td>110000</td>\n",
       "      <td>11000.0</td>\n",
       "      <td>New York</td>\n",
       "    </tr>\n",
       "    <tr>\n",
       "      <th>1</th>\n",
       "      <td>2</td>\n",
       "      <td>Anna</td>\n",
       "      <td>Marketing</td>\n",
       "      <td>92000</td>\n",
       "      <td>7360.0</td>\n",
       "      <td>San Francisco</td>\n",
       "    </tr>\n",
       "    <tr>\n",
       "      <th>2</th>\n",
       "      <td>3</td>\n",
       "      <td>Peter</td>\n",
       "      <td>Engineering</td>\n",
       "      <td>120000</td>\n",
       "      <td>12000.0</td>\n",
       "      <td>Boston</td>\n",
       "    </tr>\n",
       "    <tr>\n",
       "      <th>3</th>\n",
       "      <td>4</td>\n",
       "      <td>Linda</td>\n",
       "      <td>HR</td>\n",
       "      <td>150000</td>\n",
       "      <td>7500.0</td>\n",
       "      <td>Chicago</td>\n",
       "    </tr>\n",
       "    <tr>\n",
       "      <th>4</th>\n",
       "      <td>5</td>\n",
       "      <td>James</td>\n",
       "      <td>Marketing</td>\n",
       "      <td>98000</td>\n",
       "      <td>7840.0</td>\n",
       "      <td>Los Angeles</td>\n",
       "    </tr>\n",
       "    <tr>\n",
       "      <th>5</th>\n",
       "      <td>6</td>\n",
       "      <td>Patricia</td>\n",
       "      <td>Engineering</td>\n",
       "      <td>104000</td>\n",
       "      <td>10400.0</td>\n",
       "      <td>Austin</td>\n",
       "    </tr>\n",
       "    <tr>\n",
       "      <th>6</th>\n",
       "      <td>7</td>\n",
       "      <td>Michael</td>\n",
       "      <td>HR</td>\n",
       "      <td>164000</td>\n",
       "      <td>8200.0</td>\n",
       "      <td>Miami</td>\n",
       "    </tr>\n",
       "    <tr>\n",
       "      <th>7</th>\n",
       "      <td>8</td>\n",
       "      <td>Elizabeth</td>\n",
       "      <td>Engineering</td>\n",
       "      <td>134000</td>\n",
       "      <td>13400.0</td>\n",
       "      <td>Dallas</td>\n",
       "    </tr>\n",
       "    <tr>\n",
       "      <th>8</th>\n",
       "      <td>9</td>\n",
       "      <td>David</td>\n",
       "      <td>Marketing</td>\n",
       "      <td>86000</td>\n",
       "      <td>6880.0</td>\n",
       "      <td>Seattle</td>\n",
       "    </tr>\n",
       "    <tr>\n",
       "      <th>9</th>\n",
       "      <td>10</td>\n",
       "      <td>Susan</td>\n",
       "      <td>HR</td>\n",
       "      <td>180000</td>\n",
       "      <td>9000.0</td>\n",
       "      <td>Denver</td>\n",
       "    </tr>\n",
       "  </tbody>\n",
       "</table>\n",
       "</div>"
      ],
      "text/plain": [
       "   EmployeeID       Name   Department  Salary    Bonus       Location\n",
       "0           1       John  Engineering  110000  11000.0       New York\n",
       "1           2       Anna    Marketing   92000   7360.0  San Francisco\n",
       "2           3      Peter  Engineering  120000  12000.0         Boston\n",
       "3           4      Linda           HR  150000   7500.0        Chicago\n",
       "4           5      James    Marketing   98000   7840.0    Los Angeles\n",
       "5           6   Patricia  Engineering  104000  10400.0         Austin\n",
       "6           7    Michael           HR  164000   8200.0          Miami\n",
       "7           8  Elizabeth  Engineering  134000  13400.0         Dallas\n",
       "8           9      David    Marketing   86000   6880.0        Seattle\n",
       "9          10      Susan           HR  180000   9000.0         Denver"
      ]
     },
     "execution_count": 30,
     "metadata": {},
     "output_type": "execute_result"
    }
   ],
   "source": [
    "# renamed column name because to merge other dataframe\n",
    "df_employees.rename(columns={'Employee_ID': 'EmployeeID'}, inplace=True)\n",
    "\n",
    "df_employees_locations = pd.merge(df_employees, df_locations, on='EmployeeID')\n",
    "df_employees_locations"
   ]
  },
  {
   "cell_type": "markdown",
   "id": "b5eb083f",
   "metadata": {},
   "source": [
    "16. Join two DataFrames using an index."
   ]
  },
  {
   "cell_type": "code",
   "execution_count": 31,
   "id": "4baa4389",
   "metadata": {},
   "outputs": [
    {
     "name": "stdout",
     "output_type": "stream",
     "text": [
      "   EmployeeID       Name   Department  Salary    Bonus  DepartmentID  \\\n",
      "0           1       John  Engineering  110000  11000.0           1.0   \n",
      "1           2       Anna    Marketing   92000   7360.0           2.0   \n",
      "2           3      Peter  Engineering  120000  12000.0           3.0   \n",
      "3           4      Linda           HR  150000   7500.0           NaN   \n",
      "4           5      James    Marketing   98000   7840.0           NaN   \n",
      "5           6   Patricia  Engineering  104000  10400.0           NaN   \n",
      "6           7    Michael           HR  164000   8200.0           NaN   \n",
      "7           8  Elizabeth  Engineering  134000  13400.0           NaN   \n",
      "8           9      David    Marketing   86000   6880.0           NaN   \n",
      "9          10      Susan           HR  180000   9000.0           NaN   \n",
      "\n",
      "    Department        Manager  \n",
      "0  Engineering       John Doe  \n",
      "1    Marketing     Jane Smith  \n",
      "2           HR  Michael Brown  \n",
      "3          NaN            NaN  \n",
      "4          NaN            NaN  \n",
      "5          NaN            NaN  \n",
      "6          NaN            NaN  \n",
      "7          NaN            NaN  \n",
      "8          NaN            NaN  \n",
      "9          NaN            NaN  \n"
     ]
    }
   ],
   "source": [
    "\n",
    "# print(pd.merge(df_employees, df_departments, how='left', left_index=True, right_index=True))\n",
    "# print(df_employees.join(df_departments, lsuffix=\"_emp\", rsuffix=\"_dept\"))\n",
    "print(pd.concat([df_employees, df_departments], axis=1))"
   ]
  },
  {
   "cell_type": "markdown",
   "id": "0c0e8442",
   "metadata": {},
   "source": [
    "17. Apply a function to each element in a column using .apply(). "
   ]
  },
  {
   "cell_type": "code",
   "execution_count": 32,
   "id": "f8b2656f",
   "metadata": {},
   "outputs": [
    {
     "data": {
      "text/html": [
       "<div>\n",
       "<style scoped>\n",
       "    .dataframe tbody tr th:only-of-type {\n",
       "        vertical-align: middle;\n",
       "    }\n",
       "\n",
       "    .dataframe tbody tr th {\n",
       "        vertical-align: top;\n",
       "    }\n",
       "\n",
       "    .dataframe thead th {\n",
       "        text-align: right;\n",
       "    }\n",
       "</style>\n",
       "<table border=\"1\" class=\"dataframe\">\n",
       "  <thead>\n",
       "    <tr style=\"text-align: right;\">\n",
       "      <th></th>\n",
       "      <th>EmployeeID</th>\n",
       "      <th>Name</th>\n",
       "      <th>Department</th>\n",
       "      <th>Salary</th>\n",
       "      <th>Bonus</th>\n",
       "    </tr>\n",
       "  </thead>\n",
       "  <tbody>\n",
       "    <tr>\n",
       "      <th>0</th>\n",
       "      <td>1</td>\n",
       "      <td>John</td>\n",
       "      <td>Engineering</td>\n",
       "      <td>220000</td>\n",
       "      <td>11000.0</td>\n",
       "    </tr>\n",
       "    <tr>\n",
       "      <th>1</th>\n",
       "      <td>2</td>\n",
       "      <td>Anna</td>\n",
       "      <td>Marketing</td>\n",
       "      <td>184000</td>\n",
       "      <td>7360.0</td>\n",
       "    </tr>\n",
       "    <tr>\n",
       "      <th>2</th>\n",
       "      <td>3</td>\n",
       "      <td>Peter</td>\n",
       "      <td>Engineering</td>\n",
       "      <td>240000</td>\n",
       "      <td>12000.0</td>\n",
       "    </tr>\n",
       "    <tr>\n",
       "      <th>3</th>\n",
       "      <td>4</td>\n",
       "      <td>Linda</td>\n",
       "      <td>HR</td>\n",
       "      <td>300000</td>\n",
       "      <td>7500.0</td>\n",
       "    </tr>\n",
       "    <tr>\n",
       "      <th>4</th>\n",
       "      <td>5</td>\n",
       "      <td>James</td>\n",
       "      <td>Marketing</td>\n",
       "      <td>196000</td>\n",
       "      <td>7840.0</td>\n",
       "    </tr>\n",
       "    <tr>\n",
       "      <th>5</th>\n",
       "      <td>6</td>\n",
       "      <td>Patricia</td>\n",
       "      <td>Engineering</td>\n",
       "      <td>208000</td>\n",
       "      <td>10400.0</td>\n",
       "    </tr>\n",
       "    <tr>\n",
       "      <th>6</th>\n",
       "      <td>7</td>\n",
       "      <td>Michael</td>\n",
       "      <td>HR</td>\n",
       "      <td>328000</td>\n",
       "      <td>8200.0</td>\n",
       "    </tr>\n",
       "    <tr>\n",
       "      <th>7</th>\n",
       "      <td>8</td>\n",
       "      <td>Elizabeth</td>\n",
       "      <td>Engineering</td>\n",
       "      <td>268000</td>\n",
       "      <td>13400.0</td>\n",
       "    </tr>\n",
       "    <tr>\n",
       "      <th>8</th>\n",
       "      <td>9</td>\n",
       "      <td>David</td>\n",
       "      <td>Marketing</td>\n",
       "      <td>172000</td>\n",
       "      <td>6880.0</td>\n",
       "    </tr>\n",
       "    <tr>\n",
       "      <th>9</th>\n",
       "      <td>10</td>\n",
       "      <td>Susan</td>\n",
       "      <td>HR</td>\n",
       "      <td>360000</td>\n",
       "      <td>9000.0</td>\n",
       "    </tr>\n",
       "  </tbody>\n",
       "</table>\n",
       "</div>"
      ],
      "text/plain": [
       "   EmployeeID       Name   Department  Salary    Bonus\n",
       "0           1       John  Engineering  220000  11000.0\n",
       "1           2       Anna    Marketing  184000   7360.0\n",
       "2           3      Peter  Engineering  240000  12000.0\n",
       "3           4      Linda           HR  300000   7500.0\n",
       "4           5      James    Marketing  196000   7840.0\n",
       "5           6   Patricia  Engineering  208000  10400.0\n",
       "6           7    Michael           HR  328000   8200.0\n",
       "7           8  Elizabeth  Engineering  268000  13400.0\n",
       "8           9      David    Marketing  172000   6880.0\n",
       "9          10      Susan           HR  360000   9000.0"
      ]
     },
     "execution_count": 32,
     "metadata": {},
     "output_type": "execute_result"
    }
   ],
   "source": [
    "df_employees['Salary'] = df_employees['Salary'].apply(lambda x: x * 2)\n",
    "df_employees"
   ]
  },
  {
   "cell_type": "markdown",
   "id": "117f0f51",
   "metadata": {},
   "source": [
    "18. Create a new DataFrame by filtering rows based on multiple conditions. "
   ]
  },
  {
   "cell_type": "code",
   "execution_count": 33,
   "id": "0e17f38c",
   "metadata": {},
   "outputs": [
    {
     "data": {
      "text/html": [
       "<div>\n",
       "<style scoped>\n",
       "    .dataframe tbody tr th:only-of-type {\n",
       "        vertical-align: middle;\n",
       "    }\n",
       "\n",
       "    .dataframe tbody tr th {\n",
       "        vertical-align: top;\n",
       "    }\n",
       "\n",
       "    .dataframe thead th {\n",
       "        text-align: right;\n",
       "    }\n",
       "</style>\n",
       "<table border=\"1\" class=\"dataframe\">\n",
       "  <thead>\n",
       "    <tr style=\"text-align: right;\">\n",
       "      <th></th>\n",
       "      <th>EmployeeID</th>\n",
       "      <th>Name</th>\n",
       "      <th>Department</th>\n",
       "      <th>Salary</th>\n",
       "      <th>Bonus</th>\n",
       "    </tr>\n",
       "  </thead>\n",
       "  <tbody>\n",
       "    <tr>\n",
       "      <th>3</th>\n",
       "      <td>4</td>\n",
       "      <td>Linda</td>\n",
       "      <td>HR</td>\n",
       "      <td>300000</td>\n",
       "      <td>7500.0</td>\n",
       "    </tr>\n",
       "    <tr>\n",
       "      <th>6</th>\n",
       "      <td>7</td>\n",
       "      <td>Michael</td>\n",
       "      <td>HR</td>\n",
       "      <td>328000</td>\n",
       "      <td>8200.0</td>\n",
       "    </tr>\n",
       "    <tr>\n",
       "      <th>9</th>\n",
       "      <td>10</td>\n",
       "      <td>Susan</td>\n",
       "      <td>HR</td>\n",
       "      <td>360000</td>\n",
       "      <td>9000.0</td>\n",
       "    </tr>\n",
       "  </tbody>\n",
       "</table>\n",
       "</div>"
      ],
      "text/plain": [
       "   EmployeeID     Name Department  Salary   Bonus\n",
       "3           4    Linda         HR  300000  7500.0\n",
       "6           7  Michael         HR  328000  8200.0\n",
       "9          10    Susan         HR  360000  9000.0"
      ]
     },
     "execution_count": 33,
     "metadata": {},
     "output_type": "execute_result"
    }
   ],
   "source": [
    "filtered_df = df_employees[(df_employees[\"Salary\"] > 200000) & (df_employees['Bonus'] < 10000)]\n",
    "filtered_df"
   ]
  },
  {
   "cell_type": "markdown",
   "id": "d166da3a",
   "metadata": {},
   "source": [
    "19. Convert a column from string to a numeric type. "
   ]
  },
  {
   "cell_type": "code",
   "execution_count": 34,
   "id": "6c9fffee",
   "metadata": {},
   "outputs": [
    {
     "data": {
      "text/plain": [
       "EmployeeID      int64\n",
       "Name           object\n",
       "Department     object\n",
       "Salary          int64\n",
       "Bonus         float64\n",
       "dtype: object"
      ]
     },
     "execution_count": 34,
     "metadata": {},
     "output_type": "execute_result"
    }
   ],
   "source": [
    "df_employees.dtypes"
   ]
  },
  {
   "cell_type": "code",
   "execution_count": 35,
   "id": "3fb4e4ec",
   "metadata": {},
   "outputs": [
    {
     "data": {
      "text/plain": [
       "EmployeeID      int64\n",
       "Name           object\n",
       "Department     object\n",
       "Salary         object\n",
       "Bonus         float64\n",
       "dtype: object"
      ]
     },
     "execution_count": 35,
     "metadata": {},
     "output_type": "execute_result"
    }
   ],
   "source": [
    "# First convert the column to string because there is no numeric value string column to convert to int\n",
    "df_employees['Salary'] = df_employees['Salary'].astype(str)\n",
    "df_employees.dtypes"
   ]
  },
  {
   "cell_type": "code",
   "execution_count": 36,
   "id": "a7aed621",
   "metadata": {},
   "outputs": [
    {
     "data": {
      "text/plain": [
       "EmployeeID      int64\n",
       "Name           object\n",
       "Department     object\n",
       "Salary          int64\n",
       "Bonus         float64\n",
       "dtype: object"
      ]
     },
     "execution_count": 36,
     "metadata": {},
     "output_type": "execute_result"
    }
   ],
   "source": [
    "# here we are converting the string column to int\n",
    "df_employees['Salary'] = df_employees['Salary'].astype(int)\n",
    "df_employees.dtypes"
   ]
  },
  {
   "cell_type": "markdown",
   "id": "696d828c",
   "metadata": {},
   "source": [
    "20. Save the modified DataFrame to a new CSV file. "
   ]
  },
  {
   "cell_type": "code",
   "execution_count": 37,
   "id": "4f981bd7",
   "metadata": {},
   "outputs": [],
   "source": [
    "# index=False prevents the DataFrame index from being written to the CSV file. \n",
    "filtered_df.to_csv('datasets/filtered_employees.csv', sep=',', index=False, header=True)"
   ]
  }
 ],
 "metadata": {
  "kernelspec": {
   "display_name": "Python 3",
   "language": "python",
   "name": "python3"
  },
  "language_info": {
   "codemirror_mode": {
    "name": "ipython",
    "version": 3
   },
   "file_extension": ".py",
   "mimetype": "text/x-python",
   "name": "python",
   "nbconvert_exporter": "python",
   "pygments_lexer": "ipython3",
   "version": "3.13.3"
  }
 },
 "nbformat": 4,
 "nbformat_minor": 5
}
